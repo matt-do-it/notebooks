{
 "cells": [
  {
   "cell_type": "markdown",
   "id": "36efac09-ec0d-4aa2-b77e-9bc18e4cfba3",
   "metadata": {},
   "source": [
    "# Calculate CAGR"
   ]
  },
  {
   "cell_type": "markdown",
   "id": "ab30c6cc-66b8-4ce4-8b12-aeef3b79c744",
   "metadata": {},
   "source": [
    "A simple tool to calculate the compound annual groth rate."
   ]
  },
  {
   "cell_type": "code",
   "execution_count": 2,
   "id": "a9516066-2f96-4105-b768-db8f0d1990e5",
   "metadata": {
    "jupyter": {
     "source_hidden": true
    }
   },
   "outputs": [],
   "source": [
    "from IPython.display import display, HTML\n",
    "import ipywidgets as widgets\n",
    "\n",
    "import pandas as pd\n",
    "import numpy\n",
    "import altair"
   ]
  },
  {
   "cell_type": "markdown",
   "id": "cd729c2a-f937-4089-b2cd-9e909265cb07",
   "metadata": {},
   "source": [
    "## Parameter"
   ]
  },
  {
   "cell_type": "code",
   "execution_count": 3,
   "id": "caf66b01-24ee-4c9c-bab8-efb1cd5a3ff3",
   "metadata": {
    "jupyter": {
     "source_hidden": true
    }
   },
   "outputs": [
    {
     "data": {
      "application/vnd.jupyter.widget-view+json": {
       "model_id": "aff2b675426c45b198e94a53e1b98853",
       "version_major": 2,
       "version_minor": 0
      },
      "text/plain": [
       "IntText(value=200, description='Start-Value:')"
      ]
     },
     "metadata": {},
     "output_type": "display_data"
    },
    {
     "data": {
      "application/vnd.jupyter.widget-view+json": {
       "model_id": "336cfb10eb5d45bd8c39b79a9284c803",
       "version_major": 2,
       "version_minor": 0
      },
      "text/plain": [
       "IntText(value=2000, description='End-Value:')"
      ]
     },
     "metadata": {},
     "output_type": "display_data"
    },
    {
     "data": {
      "application/vnd.jupyter.widget-view+json": {
       "model_id": "635909550f904715b1f612db27d38594",
       "version_major": 2,
       "version_minor": 0
      },
      "text/plain": [
       "IntSlider(value=1, description='Periods:', max=20, min=1)"
      ]
     },
     "metadata": {},
     "output_type": "display_data"
    }
   ],
   "source": [
    "start_value = widgets.IntText(\n",
    "    value = 200,\n",
    "    description='Start-Value:',\n",
    "    disabled=False)\n",
    "\n",
    "end_value = widgets.IntText(\n",
    "    value = 2000,\n",
    "    description='End-Value:',\n",
    "    disabled=False)\n",
    "\n",
    "periods = widgets.IntSlider(\n",
    "    min=1,\n",
    "    max=20,\n",
    "    description='Periods:',\n",
    "    disabled=False)\n",
    "\n",
    "\n",
    "display(start_value, end_value, periods)"
   ]
  },
  {
   "cell_type": "markdown",
   "id": "81543f40-d18a-4a07-80bf-7c29286dd4aa",
   "metadata": {},
   "source": [
    "## Result"
   ]
  },
  {
   "cell_type": "code",
   "execution_count": 4,
   "id": "3e16d289-6940-41ca-83c3-a8e65700fe72",
   "metadata": {
    "jupyter": {
     "source_hidden": true
    }
   },
   "outputs": [
    {
     "data": {
      "application/vnd.jupyter.widget-view+json": {
       "model_id": "9c86533132f74a5b83dd40c87addceca",
       "version_major": 2,
       "version_minor": 0
      },
      "text/plain": [
       "Output()"
      ]
     },
     "execution_count": 4,
     "metadata": {},
     "output_type": "execute_result"
    }
   ],
   "source": [
    "def calculate(start, end, periods):\n",
    "    cagr = pow((end / start), (1 / periods)) - 1\n",
    "    display(HTML(str(\"{:.2%}\".format(cagr))))\n",
    "\n",
    "    df = pd.DataFrame({\n",
    "        \"period\": pd.Series(numpy.arange(0, periods  + 1))\n",
    "    })\n",
    "    df['value'] = start * ((1 + cagr)**df['period'])\n",
    "\n",
    "    chart = altair.Chart(df).mark_line().encode(\n",
    "        x='period',\n",
    "        y='value'\n",
    "    )\n",
    "    display(chart)\n",
    "\n",
    "widgets.interactive_output(calculate, {'start': start_value, 'end': end_value, 'periods': periods})"
   ]
  },
  {
   "cell_type": "code",
   "execution_count": 39,
   "id": "a8c5b240-da13-4fbe-9e74-7cbda86c56f7",
   "metadata": {},
   "outputs": [
    {
     "data": {
      "text/html": [
       "<script src=\"https://cdn.jsdelivr.net/npm/@jupyterlab/services@7.2.5/dist/dist/index.js\"></script>\n",
       "<script>\n",
       "var services = window['@jupyterlab/services'];\n",
       "var kernelManager = new services.KernelManager();\n",
       "\n",
       "kernelManager.ready.then(function() {\n",
       "    var kernelModel = kernelManager.running().next().value; \n",
       "\n",
       "    var connection = kernelManager.connectTo({ model: kernelModel });\n",
       "\n",
       "    var comm = connection.createComm(\"channel\");\n",
       "    comm.send(\"message\");\n",
       "    comm.close();\n",
       "});\n",
       "</script>\n"
      ],
      "text/plain": [
       "<IPython.core.display.HTML object>"
      ]
     },
     "metadata": {},
     "output_type": "display_data"
    }
   ],
   "source": [
    "%%html\n",
    "<script src=\"https://cdn.jsdelivr.net/npm/@jupyterlab/services@7.2.5/dist/dist/index.js\"></script>\n",
    "<script>\n",
    "var services = window['@jupyterlab/services'];\n",
    "var kernelManager = new services.KernelManager();\n",
    "\n",
    "kernelManager.ready.then(function() {\n",
    "    var kernelModel = kernelManager.running().next().value; \n",
    "\n",
    "    var connection = kernelManager.connectTo({ model: kernelModel });\n",
    "\n",
    "    var comm = connection.createComm(\"channel\");\n",
    "    comm.send(\"message\");\n",
    "    comm.close();\n",
    "});\n",
    "</script>"
   ]
  }
 ],
 "metadata": {
  "kernelspec": {
   "display_name": "Python 3 (ipykernel)",
   "language": "python",
   "name": "python3"
  },
  "language_info": {
   "codemirror_mode": {
    "name": "ipython",
    "version": 3
   },
   "file_extension": ".py",
   "mimetype": "text/x-python",
   "name": "python",
   "nbconvert_exporter": "python",
   "pygments_lexer": "ipython3",
   "version": "3.11.10"
  }
 },
 "nbformat": 4,
 "nbformat_minor": 5
}
