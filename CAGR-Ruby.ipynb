{
 "cells": [
  {
   "cell_type": "markdown",
   "id": "9f03d6ce-eb3c-4c54-b36b-e72f4b8708ca",
   "metadata": {},
   "source": [
    "# Calculate CAGR"
   ]
  },
  {
   "cell_type": "markdown",
   "id": "cb4277d6-e858-49a3-a90f-58a66bec0e78",
   "metadata": {},
   "source": [
    "A simple tool to calculate the compound annual groth rate."
   ]
  },
  {
   "cell_type": "code",
   "execution_count": 29,
   "id": "0d39add9-d009-4fb0-95dd-1aee3ab21401",
   "metadata": {
    "jupyter": {
     "source_hidden": true
    }
   },
   "outputs": [
    {
     "data": {
      "text/html": [
       "<script src=\"https://cdnjs.cloudflare.com/ajax/libs/require.js/2.3.6/require.js\"></script>"
      ],
      "text/plain": [
       "\"<script src=\\\"https://cdnjs.cloudflare.com/ajax/libs/require.js/2.3.6/require.js\\\"></script>\""
      ]
     },
     "metadata": {},
     "output_type": "display_data"
    }
   ],
   "source": [
    "require 'rubygems'\n",
    "require 'vega'\n",
    "\n",
    "IRuby.display '<script src=\"https://cdnjs.cloudflare.com/ajax/libs/require.js/2.3.6/require.js\"></script>', \n",
    "    :mime => \"text/html\"\n",
    "\n",
    "nil"
   ]
  },
  {
   "cell_type": "markdown",
   "id": "c37d0632-f7d9-4808-bbec-8af8cf8e820d",
   "metadata": {},
   "source": [
    "## Parameter"
   ]
  },
  {
   "cell_type": "code",
   "execution_count": 59,
   "id": "c2a1a7b5-58b5-421a-aa88-ed08c9879c9d",
   "metadata": {},
   "outputs": [],
   "source": [
    "# Start\n",
    "start_value = 20\n",
    "\n",
    "# Ende\n",
    "end_value = 200\n",
    "\n",
    "# Anzahl der Perioden\n",
    "periods = 5\n",
    "\n",
    "nil"
   ]
  },
  {
   "cell_type": "markdown",
   "id": "e1269cd9-81f7-4286-b79e-3c8b7b8a6f25",
   "metadata": {},
   "source": [
    "## Result"
   ]
  },
  {
   "cell_type": "code",
   "execution_count": 61,
   "id": "f4602bb6-768d-4f4b-a036-743e67f63e6d",
   "metadata": {},
   "outputs": [
    {
     "data": {
      "text/html": [
       "<div id=\"chart-79fca96f87fe74de6427ee09e4c48ac9\" style=\"width: 300px; height: 300px;\"></div>\n",
       "<script>\n",
       "  require.config({\n",
       "    paths: {\n",
       "      'vega': 'https://cdn.jsdelivr.net/npm/vega@5.22.1/build/vega.min',\n",
       "      'vega-util': 'https://cdn.jsdelivr.net/npm/vega-util@1.17.0/build/vega-util.min',\n",
       "      'vega-lite': 'https://cdn.jsdelivr.net/npm/vega-lite@5.6.1/build/vega-lite.min',\n",
       "      'vega-embed': 'https://cdn.jsdelivr.net/npm/vega-embed@6.21.3/build/vega-embed.min'\n",
       "    }\n",
       "  });\n",
       "  require(['vega', 'vega-util', 'vega-lite', 'vega-embed'], function(vega, vegaUtil, vegaLite, vegaEmbed) {\n",
       "    vegaEmbed(\"#chart-79fca96f87fe74de6427ee09e4c48ac9\", {\"$schema\":\"https://vega.github.io/schema/vega-lite/v5.json\",\"width\":300,\"height\":300,\"data\":{\"values\":[{\"period\":0,\"value\":20.0},{\"period\":1,\"value\":31.697863849222273},{\"period\":2,\"value\":50.23772863019161},{\"period\":3,\"value\":79.62143411069947},{\"period\":4,\"value\":126.19146889603869},{\"period\":5,\"value\":200.00000000000006}]},\"mark\":{\"type\":\"line\",\"tooltip\":true},\"encoding\":{\"x\":{\"field\":\"period\",\"type\":\"nominal\"},\"y\":{\"field\":\"value\",\"type\":\"quantitative\"}}}, {\"actions\":false});\n",
       "  });\n",
       "</script>\n"
      ],
      "text/plain": [
       "#<Vega::LiteChart:0x0000000120f19ef8 @schema=\"https://vega.github.io/schema/vega-lite/v5.json\", @spec={\"$schema\"=>\"https://vega.github.io/schema/vega-lite/v5.json\", \"width\"=>300, \"height\"=>300, \"data\"=>{:values=>[{:period=>0, :value=>20.0}, {:period=>1, :value=>31.697863849222273}, {:period=>2, :value=>50.23772863019161}, {:period=>3, :value=>79.62143411069947}, {:period=>4, :value=>126.19146889603869}, {:period=>5, :value=>200.00000000000006}]}, \"mark\"=>{:type=>\"line\", :tooltip=>true}, \"encoding\"=>{:x=>{:field=>\"period\", :type=>\"nominal\"}, :y=>{:field=>\"value\", :type=>\"quantitative\"}}}>"
      ]
     },
     "execution_count": 61,
     "metadata": {},
     "output_type": "execute_result"
    }
   ],
   "source": [
    "cagr = ((end_value.to_f / start_value.to_f)**(1.0/periods.to_f)) - 1\n",
    "\n",
    "df = (0..periods).map do |period|\n",
    "    { \n",
    "        :period => period,\n",
    "        :value => start_value * ((1 + cagr)**period)\n",
    "    }\n",
    "end\n",
    "\n",
    "Vega.lite\n",
    "  .data(df)\n",
    "  .width(300).height(300)\n",
    "  .mark(type: \"line\", tooltip: true)\n",
    "  .encoding(\n",
    "    x: {field: \"period\", type: \"nominal\"},\n",
    "    y: {field: \"value\", type: \"quantitative\"}\n",
    "  )"
   ]
  },
  {
   "cell_type": "code",
   "execution_count": null,
   "id": "8be12e80-d2df-4bb2-96f7-bd4205c6bb67",
   "metadata": {},
   "outputs": [],
   "source": []
  }
 ],
 "metadata": {
  "kernelspec": {
   "display_name": "Ruby 3 (iruby kernel)",
   "language": "ruby",
   "name": "ruby3"
  },
  "language_info": {
   "file_extension": ".rb",
   "mimetype": "application/x-ruby",
   "name": "ruby",
   "version": "3.3.4"
  }
 },
 "nbformat": 4,
 "nbformat_minor": 5
}
